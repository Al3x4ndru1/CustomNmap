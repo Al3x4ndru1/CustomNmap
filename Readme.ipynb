{
 "cells": [
  {
   "cell_type": "markdown",
   "metadata": {},
   "source": [
    "# CustomNmap script"
   ]
  },
  {
   "cell_type": "markdown",
   "metadata": {},
   "source": [
    "This project started as a challenge for me to improve my bash scripting skills during the cyber security module."
   ]
  },
  {
   "cell_type": "markdown",
   "metadata": {},
   "source": [
    "-----------------------------"
   ]
  },
  {
   "cell_type": "markdown",
   "metadata": {},
   "source": [
    "The author created a custom script to automate network discovery and port scanning (TCP and UDP). The programming language chosen for this task was Bash since it is a command language used for automating tasks in Linux. Moreover, Bash is much faster than other high-level programming languages\n",
    "in a single-thread architecture such as Java or Python. \n",
    "\n",
    "The only downside of this script is the single-thread architecture used because it can be much\n",
    "faster using multi-processing architecture."
   ]
  },
  {
   "cell_type": "markdown",
   "metadata": {},
   "source": [
    "## Stage 1"
   ]
  },
  {
   "cell_type": "markdown",
   "metadata": {},
   "source": [
    "The program contains multiple files, which the main file calls. The first stage is checking if \"netwokdiscovery.txt\" exists or not. If it does not exist, it will create it. Else, it will clear its content. After it calls \"get_ipaddress.sh\""
   ]
  },
  {
   "cell_type": "markdown",
   "metadata": {},
   "source": [
    "Further, it takes the output of the \"nmap\" command, using the pipe command, and it uses the command-line utility for searching plain-text data \"grep\" to search the lines that contain the word \"report\". The preprocessed pain-text output from the \"grep\" command is passed, using the pipe command, to the domain-specific language designed for text processing \"awk\"."
   ]
  },
  {
   "cell_type": "markdown",
   "metadata": {},
   "source": [
    "---------------------------"
   ]
  },
  {
   "cell_type": "markdown",
   "metadata": {},
   "source": [
    "## Stage 2"
   ]
  },
  {
   "cell_type": "markdown",
   "metadata": {},
   "source": [
    "The result of stage 1 is a must to continue the program execution. Therefore,the program waits for the first stage execution to be completed and then proceeds to stage 2.\n",
    "\n",
    "The second stage contains port scanning steps for both TCP and UDP. As in the previous step, the first checks whether the output files exist. If they do not exist, it will create them. Else, it will clear their content."
   ]
  }
 ],
 "metadata": {
  "language_info": {
   "name": "python"
  }
 },
 "nbformat": 4,
 "nbformat_minor": 2
}
